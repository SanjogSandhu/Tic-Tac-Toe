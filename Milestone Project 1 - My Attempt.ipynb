{
 "cells": [
  {
   "cell_type": "code",
   "execution_count": 1,
   "id": "1de0fc41",
   "metadata": {},
   "outputs": [],
   "source": [
    "# Alright so let's try this by myself to begin with. First thing we want is to print out a board\n",
    "\n",
    "def printboard():\n",
    "    # We'll want a grid, with lines and dashes. But really I can view it lots of empty spaces in rows really.\n",
    "    # So it'll be lots of index positioning wizardy\n",
    "    # I drew this out. Best way to do it is if each square is 9x9, and then you have an extra 'box' for the lines for the board\n",
    "    # Which makes a 29x29 board total. Which is\n",
    "    \n",
    "    # We need vertical dashes in position [3] and [7] and horizontal dashes in the 4th and 8th rows\n",
    "    \n",
    "    grid=[]\n",
    "    for x in range(2):\n",
    "        grid.append('')\n",
    "        for y in range(2):\n",
    "            grid.append('-')\n",
    "    print(grid)\n",
    "        "
   ]
  },
  {
   "cell_type": "code",
   "execution_count": 2,
   "id": "8854dbb0",
   "metadata": {},
   "outputs": [
    {
     "name": "stdout",
     "output_type": "stream",
     "text": [
      "['', '-', '-', '', '-', '-']\n"
     ]
    }
   ],
   "source": [
    "printboard()"
   ]
  },
  {
   "cell_type": "code",
   "execution_count": null,
   "id": "7ea75d7f",
   "metadata": {},
   "outputs": [],
   "source": []
  },
  {
   "cell_type": "code",
   "execution_count": 3,
   "id": "d97f1ddd",
   "metadata": {},
   "outputs": [],
   "source": [
    "# We want a 5x11 board\n",
    "\n",
    "def blankboard():\n",
    "    \n",
    "    row = [' ','|',' ','|',' ']\n",
    "    dashedrow = ['-','-','-','-','-']\n",
    "    \n",
    "    # 4th and 8th rows need horizontal lines\n",
    "    for i in range(0,11):\n",
    "        if i == 3 or i == 7: # [3] = 4th row and [7] = 8th row\n",
    "            print(dashedrow)\n",
    "        else:\n",
    "            print(row)"
   ]
  },
  {
   "cell_type": "code",
   "execution_count": 4,
   "id": "b1e3cc42",
   "metadata": {},
   "outputs": [
    {
     "name": "stdout",
     "output_type": "stream",
     "text": [
      "[' ', '|', ' ', '|', ' ']\n",
      "[' ', '|', ' ', '|', ' ']\n",
      "[' ', '|', ' ', '|', ' ']\n",
      "['-', '-', '-', '-', '-']\n",
      "[' ', '|', ' ', '|', ' ']\n",
      "[' ', '|', ' ', '|', ' ']\n",
      "[' ', '|', ' ', '|', ' ']\n",
      "['-', '-', '-', '-', '-']\n",
      "[' ', '|', ' ', '|', ' ']\n",
      "[' ', '|', ' ', '|', ' ']\n",
      "[' ', '|', ' ', '|', ' ']\n"
     ]
    }
   ],
   "source": [
    "blankboard()"
   ]
  },
  {
   "cell_type": "code",
   "execution_count": 5,
   "id": "a9896dc5",
   "metadata": {},
   "outputs": [],
   "source": [
    "# I'm gonna try and somehow have different boards print out for options 1-7. Not really sure how to keep the previous board\n",
    "# and add new values though\n",
    "\n",
    "def printboard(choice):\n",
    "    \n",
    "    row = [' ','|',' ','|',' ']\n",
    "    dashedrow = ['-','-','-','-','-']\n",
    "    \n",
    "    # 4th and 8th rows need horizontal lines\n",
    "    for i in range(0,11):\n",
    "        if i == 3 or i == 7: # [3] = 4th row and [7] = 8th row\n",
    "            print(dashedrow)\n",
    "        else:\n",
    "            print(row)"
   ]
  },
  {
   "cell_type": "code",
   "execution_count": 6,
   "id": "83838cb3",
   "metadata": {},
   "outputs": [],
   "source": [
    "# Right so I was doing it kinda right, but the input for the board is actually a list!!\n",
    "from IPython.display import clear_output # importing a clear output function\n",
    "    \n",
    "def display_board(board):\n",
    "    \n",
    "    \n",
    "    clear_output()\n",
    "    \n",
    "    print(board[7]+' |',board[8]+' |',board[9]+' |')\n",
    "    print('-----------')\n",
    "    print(board[4]+' |',board[5]+' |',board[6]+' |')\n",
    "    print('-----------')\n",
    "    print(board[1]+' |',board[2]+' |',board[3]+' |')\n",
    "    "
   ]
  },
  {
   "cell_type": "code",
   "execution_count": 7,
   "id": "55130baf",
   "metadata": {},
   "outputs": [
    {
     "name": "stdout",
     "output_type": "stream",
     "text": [
      "X | O | X |\n",
      "-----------\n",
      "O | X | O |\n",
      "-----------\n",
      "X | O | X |\n"
     ]
    }
   ],
   "source": [
    "display_board(['#','X','O','X','O','X','O','X','O','X'])"
   ]
  },
  {
   "cell_type": "code",
   "execution_count": 8,
   "id": "6c66cafc",
   "metadata": {},
   "outputs": [],
   "source": [
    "def choose_marker():\n",
    "    \n",
    "    # Output will be a Tuple (Player 1 marker, Player 2 marker)\n",
    "    \n",
    "    marker = ' '\n",
    "    \n",
    "    while marker != 'X' and marker !='O':\n",
    "        print(\"Please choose a valid marker (X or O)\")\n",
    "        marker = input(\"Player: Choose X or O to begin\")\n",
    "        \n",
    "    if marker == 'X':\n",
    "        return ('X','O')\n",
    "    else:\n",
    "        return ('O','X')"
   ]
  },
  {
   "cell_type": "code",
   "execution_count": 9,
   "id": "125952cc",
   "metadata": {},
   "outputs": [
    {
     "name": "stdout",
     "output_type": "stream",
     "text": [
      "Please choose a valid marker (X or O)\n",
      "Player: Choose X or O to beginX\n"
     ]
    },
    {
     "data": {
      "text/plain": [
       "('X', 'O')"
      ]
     },
     "execution_count": 9,
     "metadata": {},
     "output_type": "execute_result"
    }
   ],
   "source": [
    "choose_marker()"
   ]
  },
  {
   "cell_type": "code",
   "execution_count": 10,
   "id": "a2664dad",
   "metadata": {},
   "outputs": [],
   "source": [
    "# Positions for user input:\n",
    "# [7][8][9]\n",
    "# [4][5][6]\n",
    "# [1][2][3]\n",
    "\n",
    "def user_input():\n",
    "    \n",
    "    position = []\n",
    "    \n",
    "    while position not in range(1,10):\n",
    "        print(\"Please choose a valid position (1-9)\")\n",
    "        position = int(input(\"Please choose a position, Player 1 (1-9)\"))\n",
    "        return position\n",
    "        # REMEMBER TO PUT INT, IF YOU NEED AN INTEGER!!!"
   ]
  },
  {
   "cell_type": "code",
   "execution_count": 11,
   "id": "9604c3a9",
   "metadata": {},
   "outputs": [
    {
     "name": "stdout",
     "output_type": "stream",
     "text": [
      "Please choose a valid position (1-9)\n",
      "Please choose a position, Player 1 (1-9)2\n"
     ]
    },
    {
     "data": {
      "text/plain": [
       "2"
      ]
     },
     "execution_count": 11,
     "metadata": {},
     "output_type": "execute_result"
    }
   ],
   "source": [
    "user_input()"
   ]
  },
  {
   "cell_type": "code",
   "execution_count": 12,
   "id": "5d93393e",
   "metadata": {},
   "outputs": [
    {
     "name": "stdout",
     "output_type": "stream",
     "text": [
      "Please choose a valid position (1-9)\n",
      "Please choose a position, Player 1 (1-9)2\n"
     ]
    },
    {
     "data": {
      "text/plain": [
       "int"
      ]
     },
     "execution_count": 12,
     "metadata": {},
     "output_type": "execute_result"
    }
   ],
   "source": [
    "type(user_input())"
   ]
  },
  {
   "cell_type": "code",
   "execution_count": 13,
   "id": "faba8364",
   "metadata": {},
   "outputs": [],
   "source": [
    "# Kinda cheated looking at the help, but fuck it man, I'm learning\n",
    "\n",
    "def place_marker(board,marker,position):\n",
    "    \n",
    "    # We want to get the board from the display_board function. If this is the first go, the board will be blank\n",
    "    # We want to update the board list with whatever the user_input is\n",
    "    # Let's not worry about grabbing user_input for now, let's just create a function that takes those 3 inputs and \n",
    "    # displays them on the board!\n",
    "    \n",
    "    # Call function to display an empty board\n",
    "    \n",
    "    \n",
    "    \n",
    "    # We get the marker from user_input. It doesn't matter if it's player 1 or 2, it just matters about the marker\n",
    "    \n",
    "    # We want to put said marker at position 1-9\n",
    "    \n",
    "    board[position] = marker\n",
    "    \n",
    "    # Oh my Christ, I'm getting there! Ok so I've called a function within a function. And I updated a list, added a different\n",
    "    # object to the board!\n",
    "    # Oh I don't think I actually needed to print the board... that's what display board is for. This is just a function to\n",
    "    # update the board list really"
   ]
  },
  {
   "cell_type": "code",
   "execution_count": 14,
   "id": "c4496dd0",
   "metadata": {},
   "outputs": [],
   "source": [
    "place_marker(['#','X','X','X','X','X','X','X','X','X'],'O',1)"
   ]
  },
  {
   "cell_type": "code",
   "execution_count": 15,
   "id": "3a1ee681",
   "metadata": {},
   "outputs": [],
   "source": [
    "# Step 4: Write a function that takes in a board and a mark (X or O) and then checks to see if that mark has won.\n",
    "\n",
    "# So this is just a win check. If there are 3 in a row, and the input marker, then you've won.\n",
    "\n",
    "# So we need to check to see if 1-3; 4-6; 7-9; 1,5,9; 3,5,7 (diagonals) are equal to the marker\n",
    "\n",
    "# I could iterate this in a loop. I could make a list with 1-3 etc, and then it could go through and check\n",
    "\n",
    "def win_check(board, mark):\n",
    "    \n",
    "    # Let's do a simple way first\n",
    "    \n",
    "    if board[1] == mark and board[2] == mark and board[3] == mark:\n",
    "        return True\n",
    "    elif board[4] == mark and board[5] == mark and board[6] == mark:\n",
    "        return True\n",
    "    elif board[7] == mark and board[8] == mark and board[9] == mark:\n",
    "        return True\n",
    "    elif board[1] == mark and board[4] == mark and board[7] == mark:\n",
    "        return True\n",
    "    elif board[2] == mark and board[5] == mark and board[8] == mark:\n",
    "        return True\n",
    "    elif board[3] == mark and board[6] == mark and board[9] == mark:\n",
    "        return True\n",
    "    elif board[1] == mark and board[5] == mark and board[9] == mark:\n",
    "        return True\n",
    "    elif board[3] == mark and board[5] == mark and board[7] == mark:\n",
    "        return True\n",
    "    else:\n",
    "        return False\n",
    "\n",
    "    # Seems long to do it manually, maybe can do a for loop?\n",
    "    \n",
    "    # row1 = [1,2,3] ; row2 = [4,5,6] ; row3 = [7,8,9] ; diag1 = [1,5,9] ; diag2 = [3,5,7]\n",
    "    \n",
    "    # I don't know how to do it cleverly. I'll do it manually for now, and see the solutions later\n",
    "    \n",
    "    # Could you do it with an 'in' statement?\n",
    "    \n",
    "    # A BETTER WAY TO DO IT IS board[7] == board[8] == board[9] == marker. Much better way, but mine still works!\n",
    "    \n",
    "    # Oh fuck sake I forgot some of them lmao\n",
    "    \n",
    "    "
   ]
  },
  {
   "cell_type": "code",
   "execution_count": 17,
   "id": "152d4e55",
   "metadata": {},
   "outputs": [
    {
     "ename": "NameError",
     "evalue": "name 'win_check1' is not defined",
     "output_type": "error",
     "traceback": [
      "\u001b[1;31m---------------------------------------------------------------------------\u001b[0m",
      "\u001b[1;31mNameError\u001b[0m                                 Traceback (most recent call last)",
      "\u001b[1;32m~\\AppData\\Local\\Temp/ipykernel_21656/1531162297.py\u001b[0m in \u001b[0;36m<module>\u001b[1;34m\u001b[0m\n\u001b[1;32m----> 1\u001b[1;33m \u001b[0mwin_check1\u001b[0m\u001b[1;33m(\u001b[0m\u001b[1;33m[\u001b[0m\u001b[1;34m'#'\u001b[0m\u001b[1;33m,\u001b[0m\u001b[1;34m'X'\u001b[0m\u001b[1;33m,\u001b[0m\u001b[1;34m'X'\u001b[0m\u001b[1;33m,\u001b[0m\u001b[1;34m'X'\u001b[0m\u001b[1;33m,\u001b[0m\u001b[1;34m'O'\u001b[0m\u001b[1;33m,\u001b[0m\u001b[1;34m'X'\u001b[0m\u001b[1;33m,\u001b[0m\u001b[1;34m'O'\u001b[0m\u001b[1;33m,\u001b[0m\u001b[1;34m'X'\u001b[0m\u001b[1;33m,\u001b[0m\u001b[1;34m'O'\u001b[0m\u001b[1;33m,\u001b[0m\u001b[1;34m'X'\u001b[0m\u001b[1;33m]\u001b[0m\u001b[1;33m,\u001b[0m\u001b[1;34m'X'\u001b[0m\u001b[1;33m)\u001b[0m\u001b[1;33m\u001b[0m\u001b[1;33m\u001b[0m\u001b[0m\n\u001b[0m",
      "\u001b[1;31mNameError\u001b[0m: name 'win_check1' is not defined"
     ]
    }
   ],
   "source": [
    "win_check1(['#','X','X','X','O','X','O','X','O','X'],'X')"
   ]
  },
  {
   "cell_type": "code",
   "execution_count": 18,
   "id": "9de56edb",
   "metadata": {},
   "outputs": [
    {
     "data": {
      "text/plain": [
       "True"
      ]
     },
     "execution_count": 18,
     "metadata": {},
     "output_type": "execute_result"
    }
   ],
   "source": [
    "win_check(['#','X','O','X','O','X','O','X','O','X'],'X')"
   ]
  },
  {
   "cell_type": "code",
   "execution_count": 19,
   "id": "fe20b5fd",
   "metadata": {},
   "outputs": [
    {
     "data": {
      "text/plain": [
       "False"
      ]
     },
     "execution_count": 19,
     "metadata": {},
     "output_type": "execute_result"
    }
   ],
   "source": [
    "win_check(['#','','','','','','','','',''],'X')"
   ]
  },
  {
   "cell_type": "code",
   "execution_count": 20,
   "id": "48e893d3",
   "metadata": {},
   "outputs": [
    {
     "data": {
      "text/plain": [
       "True"
      ]
     },
     "execution_count": 20,
     "metadata": {},
     "output_type": "execute_result"
    }
   ],
   "source": [
    "win_check(['#','O','','','','O','','','','O'],'O')\n",
    "\n",
    "# Ok sweet it works"
   ]
  },
  {
   "cell_type": "code",
   "execution_count": 21,
   "id": "35430971",
   "metadata": {},
   "outputs": [],
   "source": [
    "# Step 5: Write a function that uses the random module to randomly decide which player goes first.\n",
    "# You may want to lookup random.randint() Return a string of which player went first.\n",
    "\n",
    "import random\n",
    "\n",
    "def choose_first():\n",
    "    first_player = random.randint(1,2)\n",
    "    return f'Player {first_player} goes first'\n",
    "    \n",
    "    # Old way: return 'Player {} goes first'.format(first_player)"
   ]
  },
  {
   "cell_type": "code",
   "execution_count": 22,
   "id": "bed5475c",
   "metadata": {},
   "outputs": [],
   "source": [
    "# Having issues with this formatting, cos we need to"
   ]
  },
  {
   "cell_type": "code",
   "execution_count": 23,
   "id": "4d62ce4c",
   "metadata": {},
   "outputs": [
    {
     "data": {
      "text/plain": [
       "'Player 2 goes first'"
      ]
     },
     "execution_count": 23,
     "metadata": {},
     "output_type": "execute_result"
    }
   ],
   "source": [
    "choose_first()"
   ]
  },
  {
   "cell_type": "code",
   "execution_count": 24,
   "id": "9e810203",
   "metadata": {},
   "outputs": [],
   "source": [
    "# Need to check whether a space on the board is available\n",
    "\n",
    "def space_check(board,position):\n",
    "    return board[position] != 'X' and board[position] != 'O'"
   ]
  },
  {
   "cell_type": "code",
   "execution_count": 25,
   "id": "0d96d704",
   "metadata": {},
   "outputs": [
    {
     "data": {
      "text/plain": [
       "False"
      ]
     },
     "execution_count": 25,
     "metadata": {},
     "output_type": "execute_result"
    }
   ],
   "source": [
    "space_check(['#','','X','','','','','','',''],2)\n",
    "# Boom"
   ]
  },
  {
   "cell_type": "code",
   "execution_count": 26,
   "id": "f2ae10bd",
   "metadata": {},
   "outputs": [
    {
     "name": "stdout",
     "output_type": "stream",
     "text": [
      "True\n"
     ]
    }
   ],
   "source": [
    "if space_check(['#','','X','','','','','','',''],2) == False:\n",
    "    print(True)\n",
    "else:\n",
    "    print(False)"
   ]
  },
  {
   "cell_type": "code",
   "execution_count": 27,
   "id": "79a43831",
   "metadata": {},
   "outputs": [],
   "source": [
    "# Need to check whether the entire board is full:\n",
    "\n",
    "def full_board_check1(board):\n",
    "    for i in range(1,9):\n",
    "        if space_check(board,i): # ( == True)\n",
    "            return False\n",
    "    # Board is full if we return True\n",
    "    return True\n",
    "    \n",
    "    # This is a better way, see if it makes a difference"
   ]
  },
  {
   "cell_type": "code",
   "execution_count": 28,
   "id": "8c69e70a",
   "metadata": {},
   "outputs": [
    {
     "data": {
      "text/plain": [
       "True"
      ]
     },
     "execution_count": 28,
     "metadata": {},
     "output_type": "execute_result"
    }
   ],
   "source": [
    "full_board_check1(['#','X','X','X','X','X','X','X','X','X'])"
   ]
  },
  {
   "cell_type": "code",
   "execution_count": 29,
   "id": "3865ee95",
   "metadata": {},
   "outputs": [],
   "source": [
    "# Let me try doing it by popping off the hash tag\n",
    "\n",
    "def full_board_check(board):\n",
    "    board.pop(0)\n",
    "    if ' ' not in board and '' not in board: # Not sure the logic quite works, but it's outputting the correct thing\n",
    "        board.insert(0,'#')\n",
    "        return True\n",
    "    else:\n",
    "        board.insert(0,'#')\n",
    "        return False\n",
    "    \n",
    "# They did it with a for loop\n",
    "# for i in range(1,10):\n",
    "#if space_check(board,i):\n",
    "#    return False\n",
    "#return True"
   ]
  },
  {
   "cell_type": "code",
   "execution_count": 30,
   "id": "6289757c",
   "metadata": {},
   "outputs": [
    {
     "data": {
      "text/plain": [
       "True"
      ]
     },
     "execution_count": 30,
     "metadata": {},
     "output_type": "execute_result"
    }
   ],
   "source": [
    "full_board_check(['#','X','X','X','X','X','O','X','X','X'])"
   ]
  },
  {
   "cell_type": "code",
   "execution_count": 31,
   "id": "bec0795b",
   "metadata": {},
   "outputs": [
    {
     "data": {
      "text/plain": [
       "False"
      ]
     },
     "execution_count": 31,
     "metadata": {},
     "output_type": "execute_result"
    }
   ],
   "source": [
    "full_board_check(['#',' ',' ',' ',' ',' ',' ',' ',' ',' '])"
   ]
  },
  {
   "cell_type": "code",
   "execution_count": 32,
   "id": "28bab46e",
   "metadata": {},
   "outputs": [
    {
     "data": {
      "text/plain": [
       "False"
      ]
     },
     "execution_count": 32,
     "metadata": {},
     "output_type": "execute_result"
    }
   ],
   "source": [
    "full_board_check(['#','','','','','','','','',''])"
   ]
  },
  {
   "cell_type": "code",
   "execution_count": 33,
   "id": "a13941e6",
   "metadata": {},
   "outputs": [],
   "source": [
    "# Ok so now we want to write a function that asks for the player's next move. Then we can use the space_check\n",
    "# function to check whether it's a free position. If it, then we want to return the position for later use\n",
    "\n",
    "def player_choice(board):\n",
    "    choice = []\n",
    "    while choice not in range(1,10): # Not including 10\n",
    "        print('Please choose a valid position (1-9)')\n",
    "        choice = int(input(\"What is your next move?\"))\n",
    "    \n",
    "    # Calling the space_check function to check whether the entered position is free or not\n",
    "    space_check(board,choice)\n",
    "    # print(space_check(board,choice)) - I used this to check whether it was working or not\n",
    "    \n",
    "    # If it's not free, we want the player to choose another position\n",
    "    while space_check(board,choice) == False:\n",
    "        print('That space is not free. Please choose another')\n",
    "        choice = []\n",
    "        while choice not in range(1,10):\n",
    "            print('Please choose a valid position (1-9)')\n",
    "            choice = int(input(\"Please choose a space\"))"
   ]
  },
  {
   "cell_type": "code",
   "execution_count": 34,
   "id": "ac270f53",
   "metadata": {},
   "outputs": [],
   "source": [
    "# THIS IS HOW THEY DID IT\n",
    "\n",
    "def player_choice1(board):\n",
    "    position = 0\n",
    "    \n",
    "    while position not in range(1,10) or not space_check(board,position): # Ahhh they just chucked it in here, which probably\n",
    "    # gets rid of the None Type error I was having\n",
    "        position = int(input('Choose a position: (1-9)'))\n",
    "        \n",
    "    return position"
   ]
  },
  {
   "cell_type": "code",
   "execution_count": 35,
   "id": "620e5e45",
   "metadata": {},
   "outputs": [
    {
     "name": "stdout",
     "output_type": "stream",
     "text": [
      "Choose a position: (1-9)2\n",
      "Choose a position: (1-9)2\n",
      "Choose a position: (1-9)3\n"
     ]
    },
    {
     "data": {
      "text/plain": [
       "3"
      ]
     },
     "execution_count": 35,
     "metadata": {},
     "output_type": "execute_result"
    }
   ],
   "source": [
    "player_choice1(['#','X','O',' ',' ',' ',' ',' ',' ',' '])"
   ]
  },
  {
   "cell_type": "code",
   "execution_count": 36,
   "id": "48e82866",
   "metadata": {},
   "outputs": [
    {
     "name": "stdout",
     "output_type": "stream",
     "text": [
      "Please choose a valid position (1-9)\n",
      "What is your next move?2\n",
      "That space is not free. Please choose another\n",
      "Please choose a valid position (1-9)\n",
      "Please choose a space5\n"
     ]
    }
   ],
   "source": [
    "player_choice(['#','X','O',' ',' ',' ',' ',' ',' ',' '])\n",
    "# Holy fuck it works"
   ]
  },
  {
   "cell_type": "code",
   "execution_count": 37,
   "id": "3652fe76",
   "metadata": {},
   "outputs": [],
   "source": [
    "# Now we just need a function for the game replay. At the end of the game, it will ask if the player wants to play again\n",
    "\n",
    "def replay():\n",
    "    replay = ' '\n",
    "    while replay != 'Y' and replay != 'N':\n",
    "        print('Please choose a valid option (Y or N)')\n",
    "        replay = input('Would you like to play again? Y or N')\n",
    "    \n",
    "    if replay == 'Y':\n",
    "        return True\n",
    "    else:\n",
    "        return False"
   ]
  },
  {
   "cell_type": "code",
   "execution_count": 38,
   "id": "e4d06a02",
   "metadata": {},
   "outputs": [
    {
     "name": "stdout",
     "output_type": "stream",
     "text": [
      "Please choose a valid option (Y or N)\n",
      "Would you like to play again? Y or NY\n"
     ]
    },
    {
     "data": {
      "text/plain": [
       "True"
      ]
     },
     "execution_count": 38,
     "metadata": {},
     "output_type": "execute_result"
    }
   ],
   "source": [
    "replay()\n",
    "# Easy peasy"
   ]
  },
  {
   "cell_type": "code",
   "execution_count": 39,
   "id": "910bd7b3",
   "metadata": {},
   "outputs": [],
   "source": [
    "board = [' ', ' ', ' ', ' ', ' ', ' ', ' ', ' ', ' ', ' ']"
   ]
  },
  {
   "cell_type": "code",
   "execution_count": 40,
   "id": "7e7b0eda",
   "metadata": {},
   "outputs": [
    {
     "data": {
      "text/plain": [
       "[' ', ' ', ' ', ' ', ' ', ' ', ' ', ' ', ' ', ' ']"
      ]
     },
     "execution_count": 40,
     "metadata": {},
     "output_type": "execute_result"
    }
   ],
   "source": [
    "board\n",
    "\n",
    "# There's a None appearing in the board list, when it should be a marker"
   ]
  },
  {
   "cell_type": "code",
   "execution_count": null,
   "id": "18c14178",
   "metadata": {},
   "outputs": [
    {
     "name": "stdout",
     "output_type": "stream",
     "text": [
      "O | X | O |\n",
      "-----------\n",
      "O | X | X |\n",
      "-----------\n",
      "X | O | O |\n",
      "TIE!\n",
      "Please choose a valid option (Y or N)\n"
     ]
    }
   ],
   "source": [
    "\n",
    "# Alright now we gotta somehow make this into a fucking game. I took the template because fuck it. It's my first project\n",
    "\n",
    "print(\"Welcome to Sanjog's Tic Tac Toe!\")\n",
    "      \n",
    "while True:\n",
    "    # First step is to print the board, of course\n",
    "    board = [' ']*10\n",
    "    display_board(board)\n",
    "    \n",
    "    # Then randomly assign player 1 or 2 to start\n",
    "    player = choose_first()\n",
    "    print(player)\n",
    "    \n",
    "    # Choose marker\n",
    "    if player == 'Player 1 goes first':\n",
    "        player1_marker,player2_marker = choose_marker() # Tuple unpacking the output of choose_marker()!\n",
    "        print(player1_marker)\n",
    "    else:\n",
    "        player2_marker,player1_marker = choose_marker()\n",
    "        print(player1_marker)\n",
    "    \n",
    "    # Ask if they want to play (i.e. put game_on)\n",
    "    play_game = input('Ready to play? Y or N?')\n",
    "    \n",
    "    # Ah so what I was getting wrong, was that I was trying to use variables from the other functions,\n",
    "    # but all you gotta do it create NEW variables here which equal the output of the functions. Easy\n",
    "    \n",
    "    if play_game == 'Y':\n",
    "        game_on = True\n",
    "    else:\n",
    "        game_on = False\n",
    "    \n",
    "    \n",
    "    while game_on == True:\n",
    "        \n",
    "        if player == 'Player 1 goes first':\n",
    "            # Show board\n",
    "            display_board(board)\n",
    "            # Choose position\n",
    "            position = player_choice1(board)\n",
    "            # Show marker (place_marker(board,marker,position))\n",
    "            place_marker(board,player1_marker,position)\n",
    "            # Check if they won\n",
    "            if win_check(board,player1_marker):\n",
    "                display_board(board)\n",
    "                print('PLAYER 1 HAS WON!')\n",
    "                game_on = False\n",
    "            # Check if there is a tie    \n",
    "            else:\n",
    "                if full_board_check(board) == True:\n",
    "                    display_board(board)\n",
    "                    print('TIE!')\n",
    "                    game_on = False\n",
    "                else:\n",
    "                    player = 'Player 2 goes first'           \n",
    "            \n",
    "            # No tie and no win? Next player's turn     \n",
    "        \n",
    "        else:\n",
    "          \n",
    "            display_board(board)\n",
    "           \n",
    "            position = player_choice1(board)\n",
    "           \n",
    "            place_marker(board,player2_marker,position)\n",
    "           \n",
    "            if win_check(board,player2_marker):\n",
    "                display_board(board)\n",
    "                print('PLAYER 2 HAS WON!')\n",
    "                game_on = False\n",
    "               \n",
    "            else:\n",
    "                if full_board_check(board) == True:\n",
    "                    display_board(board)\n",
    "                    print('TIE!')\n",
    "                    game_on = False\n",
    "                else:\n",
    "                    player = 'Player 1 goes first'\n",
    "\n",
    "\n",
    "    if not replay():\n",
    "        break\n",
    "        \n",
    "        # Omfg it worked?!?!?!\n",
    "        # Only problem is, if player 2 is starting and chooses O, X still begins"
   ]
  },
  {
   "cell_type": "code",
   "execution_count": null,
   "id": "621e07b6",
   "metadata": {},
   "outputs": [],
   "source": [
    "user_input()"
   ]
  },
  {
   "cell_type": "code",
   "execution_count": null,
   "id": "15035838",
   "metadata": {},
   "outputs": [],
   "source": [
    "def testfunc():\n",
    "    string = input(\"Test\")\n",
    "    print(string)"
   ]
  },
  {
   "cell_type": "code",
   "execution_count": null,
   "id": "87f6465b",
   "metadata": {},
   "outputs": [],
   "source": [
    "testfunc()"
   ]
  },
  {
   "cell_type": "code",
   "execution_count": null,
   "id": "e38f2fae",
   "metadata": {},
   "outputs": [],
   "source": [
    "def testfunc2():\n",
    "    testfunc()"
   ]
  },
  {
   "cell_type": "code",
   "execution_count": null,
   "id": "307b3ccb",
   "metadata": {},
   "outputs": [],
   "source": [
    "testfunc2()"
   ]
  },
  {
   "cell_type": "code",
   "execution_count": null,
   "id": "fc202911",
   "metadata": {},
   "outputs": [],
   "source": [
    "string = testfunc()"
   ]
  },
  {
   "cell_type": "code",
   "execution_count": null,
   "id": "b740be79",
   "metadata": {},
   "outputs": [],
   "source": [
    "print(string)"
   ]
  },
  {
   "cell_type": "code",
   "execution_count": null,
   "id": "d02569ea",
   "metadata": {},
   "outputs": [],
   "source": []
  },
  {
   "cell_type": "code",
   "execution_count": null,
   "id": "b787da47",
   "metadata": {},
   "outputs": [],
   "source": []
  }
 ],
 "metadata": {
  "kernelspec": {
   "display_name": "Python 3 (ipykernel)",
   "language": "python",
   "name": "python3"
  },
  "language_info": {
   "codemirror_mode": {
    "name": "ipython",
    "version": 3
   },
   "file_extension": ".py",
   "mimetype": "text/x-python",
   "name": "python",
   "nbconvert_exporter": "python",
   "pygments_lexer": "ipython3",
   "version": "3.9.7"
  }
 },
 "nbformat": 4,
 "nbformat_minor": 5
}
